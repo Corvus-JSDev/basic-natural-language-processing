{
 "cells": [
  {
   "cell_type": "markdown",
   "id": "91e78f62-901e-49f9-859e-77ecc5ff22cc",
   "metadata": {},
   "source": [
    "## Loading the book"
   ]
  },
  {
   "cell_type": "code",
   "execution_count": 1,
   "id": "b4f9a4f5-04c2-4103-956e-ba4de3ea0ae4",
   "metadata": {},
   "outputs": [],
   "source": [
    "with open(\"miracle_in_the_andes.txt\", \"r\") as file:\n",
    "    book = file.read()"
   ]
  },
  {
   "cell_type": "markdown",
   "id": "a0b07c41-9fb0-4089-bdb2-8e5ab42591c1",
   "metadata": {},
   "source": [
    "## Find the most used words"
   ]
  },
  {
   "cell_type": "code",
   "execution_count": 65,
   "id": "9270bdde-64fb-4fe7-a4f2-28496d369524",
   "metadata": {},
   "outputs": [
    {
     "data": {
      "text/plain": [
       "(5346, 'the')"
      ]
     },
     "execution_count": 65,
     "metadata": {},
     "output_type": "execute_result"
    }
   ],
   "source": [
    "import re\n",
    "pattern = re.compile(\"[a-zA-Z]+\")\n",
    "findings = re.findall(pattern, book.lower())\n",
    "\n",
    "# Findings all the words and their count\n",
    "word_dict = {}\n",
    "for word in findings:\n",
    "    if word in word_dict.keys():\n",
    "        word_dict[word] += 1\n",
    "    else:\n",
    "        word_dict[word] = 1\n",
    "\n",
    "# Format and sort the list\n",
    "sorted_word_list = [(value, key) for key, value in word_dict.items()]\n",
    "sorted_word_list = sorted(sorted_word_list, reverse=True)\n",
    "\n",
    "sorted_word_list[0]"
   ]
  },
  {
   "cell_type": "markdown",
   "id": "bde33366-7b3d-429f-a6c1-4ac04aa65caf",
   "metadata": {},
   "source": [
    "## Find the most used words that are non-articles"
   ]
  },
  {
   "cell_type": "code",
   "execution_count": 56,
   "id": "8650dbd8-13b8-486c-8b4e-7630aad8c692",
   "metadata": {},
   "outputs": [
    {
     "name": "stdout",
     "output_type": "stream",
     "text": [
      "The most used non-article word is \"would\". It is used 575 times.\n"
     ]
    }
   ],
   "source": [
    "import nltk\n",
    "from nltk.corpus import stopwords\n",
    "# NOTE: You may need to uncomment this line if you get a lookup error\n",
    "# nltk.download('stopwords')\n",
    "\n",
    "# Stopwords are used very often like pronouns or function words (as, am, the, etc)\n",
    "en_stopwords = stopwords.words(\"english\")\n",
    "\n",
    "# filtered_word_dict has 143 less words\n",
    "filtered_word_dict = {}\n",
    "\n",
    "for word, value in word_dict.items():\n",
    "    if not word in en_stopwords:\n",
    "        filtered_word_dict[word] = value\n",
    "\n",
    "sorted_filtered_word_list = [(value, key) for key, value in filtered_word_dict.items()]\n",
    "sorted_filtered_word_list = sorted(sorted_filtered_word_dict, reverse=True)\n",
    "\n",
    "print(f\"The most used non-article word is \\\"{sorted_filtered_word_list[0][1]}\\\". It is used {sorted_filtered_word_list[0][0]} times.\")"
   ]
  },
  {
   "cell_type": "markdown",
   "id": "7c880447-8e98-4077-8efd-bcb7bd9040cf",
   "metadata": {},
   "source": [
    "## Find the most positive and negative chapter"
   ]
  },
  {
   "cell_type": "code",
   "execution_count": 189,
   "id": "8c649605-1acf-4eb9-98a2-f37d9ca30597",
   "metadata": {},
   "outputs": [
    {
     "name": "stdout",
     "output_type": "stream",
     "text": [
      "Most Positive:  {'name': 'Chapter 10', 'score': {'neg': 0.086, 'neu': 0.733, 'pos': 0.181, 'compound': 1.0}}\n",
      "Most Negitive:  {'name': 'Chapter 3', 'score': {'neg': 0.145, 'neu': 0.751, 'pos': 0.105, 'compound': -0.9999}}\n"
     ]
    }
   ],
   "source": [
    "import re\n",
    "from nltk.sentiment import SentimentIntensityAnalyzer\n",
    "analyzer = SentimentIntensityAnalyzer()\n",
    "\n",
    "# .polarity_scores() will return a dictionary with estimated scores about how negative, positive, and neutral the input is.\n",
    "# {'neg': 0.0, 'neu': 0.0, 'pos': 0.0, 'compound': 0.0}\n",
    "# compound can range from -1 to +1. If it is above 0 it is more positive, below 0 is more negative\n",
    "\n",
    "\n",
    "pattern = re.compile(\"Chapter [0-9]+\")\n",
    "chapters = re.split(pattern, book)[1:]  # We remove the first item becuase it is just a blank string\n",
    "\n",
    "# Find their scores\n",
    "chapter_scores = {}\n",
    "index = 0\n",
    "for chapter in chapters:\n",
    "    score = analyzer.polarity_scores(chapter)\n",
    "    chapter_scores[f\"Chapter {index+1}\"] = score\n",
    "    index += 1\n",
    "\n",
    "# Find most positive and negative\n",
    "most_pos_chap = {\"name\": \"chapter_name\", \"score\": {'neg': 0, 'neu': 0, 'pos': 0, 'compound': 0}}\n",
    "most_neg_chap = {\"name\": \"chapter_name\", \"score\": {'neg': 0, 'neu': 0, 'pos': 0, 'compound': 0}}\n",
    "\n",
    "for key, value in chapter_scores.items():\n",
    "    if value[\"pos\"] > most_pos_chap[\"score\"][\"pos\"]:\n",
    "        most_pos_chap[\"name\"] = key\n",
    "        most_pos_chap[\"score\"] = value\n",
    "    \n",
    "    if value[\"neg\"] > most_neg_chap[\"score\"][\"neg\"]:\n",
    "        most_neg_chap[\"name\"] = key\n",
    "        most_neg_chap[\"score\"] = value\n",
    "   \n",
    "print(\"Most Positive: \", most_pos_chap)  # Chapter 10\n",
    "print(\"Most Negitive: \", most_neg_chap)  # Chapter 3"
   ]
  },
  {
   "cell_type": "markdown",
   "id": "e21dd366-aac8-4631-914f-3504c5da0af4",
   "metadata": {},
   "source": [
    "## Find the mood of each chapter (positive and negative)"
   ]
  },
  {
   "cell_type": "code",
   "execution_count": 194,
   "id": "1634d67d-f3f8-4934-a295-6fc552702bda",
   "metadata": {},
   "outputs": [
    {
     "data": {
      "text/plain": [
       "{'Chapter 1': 'positive',\n",
       " 'Chapter 2': 'positive',\n",
       " 'Chapter 3': 'negative',\n",
       " 'Chapter 4': 'negative',\n",
       " 'Chapter 5': 'positive',\n",
       " 'Chapter 6': 'negative',\n",
       " 'Chapter 7': 'negative',\n",
       " 'Chapter 8': 'negative',\n",
       " 'Chapter 9': 'negative',\n",
       " 'Chapter 10': 'positive'}"
      ]
     },
     "execution_count": 194,
     "metadata": {},
     "output_type": "execute_result"
    }
   ],
   "source": [
    "new_chapter_scores = {}\n",
    "for key, value in chapter_scores.items():\n",
    "    new_chapter_scores[key] = \"positive\" if value[\"pos\"] > value[\"neg\"] else \"negative\"\n",
    "\n",
    "new_chapter_scores"
   ]
  }
 ],
 "metadata": {
  "kernelspec": {
   "display_name": "Python 3 (ipykernel)",
   "language": "python",
   "name": "python3"
  },
  "language_info": {
   "codemirror_mode": {
    "name": "ipython",
    "version": 3
   },
   "file_extension": ".py",
   "mimetype": "text/x-python",
   "name": "python",
   "nbconvert_exporter": "python",
   "pygments_lexer": "ipython3",
   "version": "3.10.12"
  }
 },
 "nbformat": 4,
 "nbformat_minor": 5
}
