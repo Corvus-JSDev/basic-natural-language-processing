{
 "cells": [
  {
   "cell_type": "markdown",
   "id": "91e78f62-901e-49f9-859e-77ecc5ff22cc",
   "metadata": {},
   "source": [
    "## Loading the book"
   ]
  },
  {
   "cell_type": "code",
   "execution_count": 1,
   "id": "b4f9a4f5-04c2-4103-956e-ba4de3ea0ae4",
   "metadata": {},
   "outputs": [],
   "source": [
    "with open(\"miracle_in_the_andes.txt\", \"r\") as file:\n",
    "    book = file.read()"
   ]
  },
  {
   "cell_type": "markdown",
   "id": "a0b07c41-9fb0-4089-bdb2-8e5ab42591c1",
   "metadata": {},
   "source": [
    "## Find the most used words"
   ]
  },
  {
   "cell_type": "code",
   "execution_count": 65,
   "id": "9270bdde-64fb-4fe7-a4f2-28496d369524",
   "metadata": {},
   "outputs": [
    {
     "data": {
      "text/plain": [
       "(5346, 'the')"
      ]
     },
     "execution_count": 65,
     "metadata": {},
     "output_type": "execute_result"
    }
   ],
   "source": [
    "import re\n",
    "pattern = re.compile(\"[a-zA-Z]+\")\n",
    "findings = re.findall(pattern, book.lower())\n",
    "\n",
    "# Findings all the words and their count\n",
    "word_dict = {}\n",
    "for word in findings:\n",
    "    if word in word_dict.keys():\n",
    "        word_dict[word] += 1\n",
    "    else:\n",
    "        word_dict[word] = 1\n",
    "\n",
    "# Format and sort the list\n",
    "sorted_word_list = [(value, key) for key, value in word_dict.items()]\n",
    "sorted_word_list = sorted(sorted_word_list, reverse=True)\n",
    "\n",
    "sorted_word_list[0]"
   ]
  },
  {
   "cell_type": "markdown",
   "id": "bde33366-7b3d-429f-a6c1-4ac04aa65caf",
   "metadata": {},
   "source": [
    "## Find the most used words that are non-articles"
   ]
  },
  {
   "cell_type": "code",
   "execution_count": 56,
   "id": "8650dbd8-13b8-486c-8b4e-7630aad8c692",
   "metadata": {},
   "outputs": [
    {
     "name": "stdout",
     "output_type": "stream",
     "text": [
      "The most used non-article word is \"would\". It is used 575 times.\n"
     ]
    }
   ],
   "source": [
    "import nltk\n",
    "from nltk.corpus import stopwords\n",
    "# NOTE: You may need to uncomment this line if you get a lookup error\n",
    "# nltk.download('stopwords')\n",
    "\n",
    "# Stopwords are used very often like pronouns or function words (as, am, the, etc)\n",
    "en_stopwords = stopwords.words(\"english\")\n",
    "\n",
    "# filtered_word_dict has 143 less words\n",
    "filtered_word_dict = {}\n",
    "\n",
    "for word, value in word_dict.items():\n",
    "    if not word in en_stopwords:\n",
    "        filtered_word_dict[word] = value\n",
    "\n",
    "sorted_filtered_word_list = [(value, key) for key, value in filtered_word_dict.items()]\n",
    "sorted_filtered_word_list = sorted(sorted_filtered_word_dict, reverse=True)\n",
    "\n",
    "print(f\"The most used non-article word is \\\"{sorted_filtered_word_list[0][1]}\\\". It is used {sorted_filtered_word_list[0][0]} times.\")"
   ]
  }
 ],
 "metadata": {
  "kernelspec": {
   "display_name": "Python 3 (ipykernel)",
   "language": "python",
   "name": "python3"
  },
  "language_info": {
   "codemirror_mode": {
    "name": "ipython",
    "version": 3
   },
   "file_extension": ".py",
   "mimetype": "text/x-python",
   "name": "python",
   "nbconvert_exporter": "python",
   "pygments_lexer": "ipython3",
   "version": "3.10.12"
  }
 },
 "nbformat": 4,
 "nbformat_minor": 5
}
