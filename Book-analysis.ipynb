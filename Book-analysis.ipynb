{
 "cells": [
  {
   "cell_type": "markdown",
   "id": "246ade59-40f0-49a4-a81f-e01ff4efaecb",
   "metadata": {},
   "source": [
    "## Load the book"
   ]
  },
  {
   "cell_type": "code",
   "execution_count": 2,
   "id": "2a5ac8c8-0ac1-48e6-846a-da2eed59295d",
   "metadata": {},
   "outputs": [],
   "source": [
    "with open(\"miracle_in_the_andes.txt\", \"r\") as file:\n",
    "    book = file.read()\n",
    "    "
   ]
  },
  {
   "cell_type": "code",
   "execution_count": 4,
   "id": "72d44c3b-332e-4350-bd99-586bb3dffc36",
   "metadata": {},
   "outputs": [
    {
     "data": {
      "text/plain": [
       "str"
      ]
     },
     "execution_count": 4,
     "metadata": {},
     "output_type": "execute_result"
    }
   ],
   "source": [
    "type(book)"
   ]
  },
  {
   "cell_type": "markdown",
   "id": "ef513ffb-5522-48f5-a5ee-cbd56fab4945",
   "metadata": {},
   "source": [
    "## How many chapters are there?"
   ]
  },
  {
   "cell_type": "markdown",
   "id": "870993ff-6339-4ef8-98b6-90ecc4fb7298",
   "metadata": {},
   "source": [
    "### With String methods (Wrong way)"
   ]
  },
  {
   "cell_type": "code",
   "execution_count": 8,
   "id": "c2252e85-4168-4726-85f9-3871eeb6d51d",
   "metadata": {},
   "outputs": [
    {
     "data": {
      "text/plain": [
       "11"
      ]
     },
     "execution_count": 8,
     "metadata": {},
     "output_type": "execute_result"
    }
   ],
   "source": [
    "book.count(\"Chapter\")  # Search for how many times the word \"chapter\" comes up"
   ]
  },
  {
   "cell_type": "markdown",
   "id": "26e4320d-138f-4a56-ae3e-3d2a901932fb",
   "metadata": {},
   "source": [
    "### With REGEX (regular expression) (Correct way)"
   ]
  },
  {
   "cell_type": "markdown",
   "id": "21a76b63-4690-4f3f-a3c0-7d1929fdc30f",
   "metadata": {},
   "source": [
    "**The Soy Boy Way**"
   ]
  },
  {
   "cell_type": "code",
   "execution_count": 22,
   "id": "a6770960-9f02-40b1-be39-ef41f1dfd1d7",
   "metadata": {},
   "outputs": [
    {
     "name": "stdout",
     "output_type": "stream",
     "text": [
      "['Chapter 1', 'Chapter 2', 'Chapter 3', 'Chapter 4', 'Chapter 5', 'Chapter 6', 'Chapter 7', 'Chapter 8', 'Chapter 9', 'Chapter 1']\n",
      "10\n"
     ]
    }
   ],
   "source": [
    "import re\n",
    "\n",
    "pattern = re.compile(\"Chapter [0-9]\")  # This only accounts for one digit\n",
    "number = re.findall(pattern, book)\n",
    "\n",
    "print(number)\n",
    "print(len(number))"
   ]
  },
  {
   "cell_type": "markdown",
   "id": "99631780-0071-4b55-8117-57225023c187",
   "metadata": {},
   "source": [
    "**The Based Way**"
   ]
  },
  {
   "cell_type": "code",
   "execution_count": 25,
   "id": "db1da345-68ff-4bae-a8c0-aacea35af126",
   "metadata": {},
   "outputs": [
    {
     "name": "stdout",
     "output_type": "stream",
     "text": [
      "['Chapter 1', 'Chapter 2', 'Chapter 3', 'Chapter 4', 'Chapter 5', 'Chapter 6', 'Chapter 7', 'Chapter 8', 'Chapter 9', 'Chapter 10']\n"
     ]
    }
   ],
   "source": [
    "pattern = re.compile(\"Chapter [0-9]+\")  # Add a plus sign to imply there may be more than one digit\n",
    "number = re.findall(pattern, book)\n",
    "\n",
    "print(number)"
   ]
  }
 ],
 "metadata": {
  "kernelspec": {
   "display_name": "Python 3 (ipykernel)",
   "language": "python",
   "name": "python3"
  },
  "language_info": {
   "codemirror_mode": {
    "name": "ipython",
    "version": 3
   },
   "file_extension": ".py",
   "mimetype": "text/x-python",
   "name": "python",
   "nbconvert_exporter": "python",
   "pygments_lexer": "ipython3",
   "version": "3.10.12"
  }
 },
 "nbformat": 4,
 "nbformat_minor": 5
}
