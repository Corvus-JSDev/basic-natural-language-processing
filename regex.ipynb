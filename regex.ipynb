{
 "cells": [
  {
   "cell_type": "markdown",
   "id": "246ade59-40f0-49a4-a81f-e01ff4efaecb",
   "metadata": {},
   "source": [
    "## Load the book"
   ]
  },
  {
   "cell_type": "code",
   "execution_count": 1,
   "id": "2a5ac8c8-0ac1-48e6-846a-da2eed59295d",
   "metadata": {},
   "outputs": [],
   "source": [
    "with open(\"miracle_in_the_andes.txt\", \"r\") as file:\n",
    "    book = file.read()\n",
    "    "
   ]
  },
  {
   "cell_type": "code",
   "execution_count": 2,
   "id": "72d44c3b-332e-4350-bd99-586bb3dffc36",
   "metadata": {},
   "outputs": [
    {
     "data": {
      "text/plain": [
       "str"
      ]
     },
     "execution_count": 2,
     "metadata": {},
     "output_type": "execute_result"
    }
   ],
   "source": [
    "type(book)"
   ]
  },
  {
   "cell_type": "markdown",
   "id": "ef513ffb-5522-48f5-a5ee-cbd56fab4945",
   "metadata": {},
   "source": [
    "## Find how many chapters are there?"
   ]
  },
  {
   "cell_type": "markdown",
   "id": "870993ff-6339-4ef8-98b6-90ecc4fb7298",
   "metadata": {},
   "source": [
    "### With String methods (Wrong way)"
   ]
  },
  {
   "cell_type": "code",
   "execution_count": 3,
   "id": "c2252e85-4168-4726-85f9-3871eeb6d51d",
   "metadata": {},
   "outputs": [
    {
     "data": {
      "text/plain": [
       "11"
      ]
     },
     "execution_count": 3,
     "metadata": {},
     "output_type": "execute_result"
    }
   ],
   "source": [
    "book.count(\"Chapter\")  # Search for how many times the word \"chapter\" comes up"
   ]
  },
  {
   "cell_type": "markdown",
   "id": "26e4320d-138f-4a56-ae3e-3d2a901932fb",
   "metadata": {},
   "source": [
    "### With REGEX (regular expression) (Correct way)"
   ]
  },
  {
   "cell_type": "markdown",
   "id": "21a76b63-4690-4f3f-a3c0-7d1929fdc30f",
   "metadata": {},
   "source": [
    "**The Soy Boy Way**"
   ]
  },
  {
   "cell_type": "code",
   "execution_count": 4,
   "id": "a6770960-9f02-40b1-be39-ef41f1dfd1d7",
   "metadata": {},
   "outputs": [
    {
     "name": "stdout",
     "output_type": "stream",
     "text": [
      "['Chapter 1', 'Chapter 2', 'Chapter 3', 'Chapter 4', 'Chapter 5', 'Chapter 6', 'Chapter 7', 'Chapter 8', 'Chapter 9', 'Chapter 1']\n",
      "10\n"
     ]
    }
   ],
   "source": [
    "import re\n",
    "\n",
    "pattern = re.compile(\"Chapter [0-9]\")  # This only accounts for one digit\n",
    "number = re.findall(pattern, book)\n",
    "\n",
    "print(number)\n",
    "print(len(number))"
   ]
  },
  {
   "cell_type": "markdown",
   "id": "99631780-0071-4b55-8117-57225023c187",
   "metadata": {},
   "source": [
    "**The Based Way**"
   ]
  },
  {
   "cell_type": "code",
   "execution_count": 5,
   "id": "db1da345-68ff-4bae-a8c0-aacea35af126",
   "metadata": {},
   "outputs": [
    {
     "name": "stdout",
     "output_type": "stream",
     "text": [
      "['Chapter 1', 'Chapter 2', 'Chapter 3', 'Chapter 4', 'Chapter 5', 'Chapter 6', 'Chapter 7', 'Chapter 8', 'Chapter 9', 'Chapter 10']\n"
     ]
    }
   ],
   "source": [
    "pattern = re.compile(\"Chapter [0-9]+\")  # Add a plus sign to imply there may be more than one digit\n",
    "number = re.findall(pattern, book)\n",
    "\n",
    "print(number)"
   ]
  },
  {
   "cell_type": "markdown",
   "id": "cb5ca84e-cd4c-481b-97c4-19765fd0acc8",
   "metadata": {},
   "source": [
    "### What are the sentences that contain the word \"love\"?"
   ]
  },
  {
   "cell_type": "code",
   "execution_count": 6,
   "id": "57053e73-9150-4884-b13a-1860b9d2ccf9",
   "metadata": {},
   "outputs": [
    {
     "name": "stdout",
     "output_type": "stream",
     "text": [
      "67\n"
     ]
    }
   ],
   "source": [
    "\"\"\" This just gets the single word \"love\"\n",
    "pattern = re.compile(\"love\")\n",
    "findings = re.findall(pattern, book)\n",
    "['love', 'love', 'love', 'love' ... ]\n",
    "\"\"\"\n",
    "\n",
    "\"\"\" This gets the first word before and after\n",
    "pattern = re.compile(\"[a-zA-Z]* love [a-zA-Z]*\")\n",
    "findings = re.findall(pattern, book)\n",
    "['passionate love for', 'a love of', 'to love the', 'in love with' ... ]\n",
    "\"\"\"\n",
    "\n",
    "\"\"\"\n",
    "# This will look for all upper and lowercase letters, all spaces, and all commas,\n",
    "# that come before and after the word \"love\"\n",
    "# This way is fine exept you have to manually input every letter, character, symbol, etc.\n",
    "pattern = re.compile(\"[a-zA-Z ,-]* love [a-zA-Z ,-]*\")\n",
    "findings = re.findall(pattern, book)\n",
    "\"\"\"\n",
    "\n",
    "\"\"\"\n",
    "# The caret symbol (^) allows everything before and after the word love, exept for the period.\n",
    "# But this also has an issue, it doesnt account for if there is a comma after the word love.\n",
    "pattern = re.compile(\"[^.]* love [^.]*\")\n",
    "findings = re.findall(pattern, book)\n",
    "\"\"\"\n",
    "\n",
    "# This will grab everything after the word love exept for alphabetical characters.\n",
    "# The [a-zA-Z]{1} at the begining will remove anything that isnt a capital letter from the begining but only 1 time.\n",
    "# Note: Do not have a space after the + \n",
    "pattern = re.compile(\"[A-Z]{1}[^.]* love[^a-zA-Z]+[^.]*\")\n",
    "findings = re.findall(pattern, book)\n",
    "\n",
    "# print(findings)\n",
    "print(len(findings))"
   ]
  },
  {
   "cell_type": "markdown",
   "id": "b86557b3-e920-4a14-b159-1401a1223baf",
   "metadata": {},
   "source": [
    "## What are the most used words?"
   ]
  },
  {
   "cell_type": "code",
   "execution_count": 7,
   "id": "f0c40d6a-cc72-405c-9821-60842362f3c5",
   "metadata": {},
   "outputs": [
    {
     "name": "stdout",
     "output_type": "stream",
     "text": [
      "(5346, 'the')\n",
      "The word 'the' was used 5346 times.\n"
     ]
    }
   ],
   "source": [
    "pattern = re.compile(\"[a-zA-Z]+\")\n",
    "findings = re.findall(pattern, book.lower())\n",
    "\n",
    "# How many words are in the book?\n",
    "# print(len(findings))  # 86798\n",
    "\n",
    "\n",
    "word_dict = {}\n",
    "\n",
    "# Find how many times a word shows up\n",
    "for word in findings:\n",
    "    if word in word_dict.keys():\n",
    "        # .keys() will return a list of keys from the dictionary\n",
    "        word_dict[word] = word_dict[word] + 1\n",
    "    else:\n",
    "        word_dict[word] = 1\n",
    "\n",
    "# Format the findings to be able to sort them later\n",
    "word_dict_list = []\n",
    "for key, value in word_dict.items():\n",
    "    # .items() will return a key value pair\n",
    "    word_dict_list.append((value, key))  # Append a key value tuple\n",
    "    # The reason we need to put the value first is so when we sort it, the sorted() method will look at the number first, not the word\n",
    "\n",
    "# sorted() will sort from lowest to highest number in alphabetical order by default.\n",
    "# We are switching it to be from highest to lowest\n",
    "sorted_word_list = sorted(word_dict_list, reverse=True)\n",
    "\n",
    "\n",
    "# Print the most used word\n",
    "print(sorted_word_list[0])\n",
    "print(f\"The word \\'{sorted_word_list[0][1]}\\' was used {sorted_word_list[0][0]} times.\")"
   ]
  }
 ],
 "metadata": {
  "kernelspec": {
   "display_name": "Python 3 (ipykernel)",
   "language": "python",
   "name": "python3"
  },
  "language_info": {
   "codemirror_mode": {
    "name": "ipython",
    "version": 3
   },
   "file_extension": ".py",
   "mimetype": "text/x-python",
   "name": "python",
   "nbconvert_exporter": "python",
   "pygments_lexer": "ipython3",
   "version": "3.10.12"
  }
 },
 "nbformat": 4,
 "nbformat_minor": 5
}
